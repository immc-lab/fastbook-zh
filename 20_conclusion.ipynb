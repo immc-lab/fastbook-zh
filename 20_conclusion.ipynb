{
 "cells": [
  {
   "cell_type": "code",
   "execution_count": null,
   "metadata": {
    "pycharm": {
     "name": "#%%\n"
    }
   },
   "outputs": [],
   "source": [
    "#hide\n",
    "! [ -e /content ] && pip install -Uqq fastbook\n",
    "import fastbook\n",
    "fastbook.setup_book()"
   ]
  },
  {
   "cell_type": "raw",
   "metadata": {
    "pycharm": {
     "name": "#%% raw\n"
    }
   },
   "source": [
    "[[chapter_conclusion]]"
   ]
  },
  {
   "cell_type": "markdown",
   "metadata": {
    "pycharm": {
     "name": "#%% md\n"
    }
   },
   "source": [
    "# Concluding Thoughts"
   ]
  },
  {
   "cell_type": "markdown",
   "metadata": {
    "pycharm": {
     "name": "#%% md\n"
    }
   },
   "source": [
    "Congratulations! You've made it! If you have worked through all of the notebooks to this point, then you have joined the small, but growing group of people that are able to harness the power of deep learning to solve real problems. You may not feel that way yet—in fact you probably don't. We have seen again and again that students that complete the fast.ai courses dramatically underestimate how effective they are as deep learning practitioners. We've also seen that these people are often underestimated by others with a classic academic background. So if you are to rise above your own expectations and the expectations of others, what you do next, after closing this book, is even more important than what you've done to get to this point.\n",
    "\n",
    "The most important thing is to keep the momentum going. In fact, as you know from your study of optimizers, momentum is something that can build upon itself! So think about what you can do now to maintain and accelerate your deep learning journey. <<do_next>> can give you a few ideas."
   ]
  },
  {
   "cell_type": "markdown",
   "source": [
    "恭喜你！你成功了！如果你已经读完了所有的笔记本，那么你已经加入了能够利用深度学习的力量来解决实际问题的人数不多但正在增长的群体。你可能还没有这种感觉——事实上你可能没有。我们一次又一次地看到，完成fast.ai课程的学生严重低估了他们作为深度学习从业者的效率。我们还看到，这些人经常被具有经典学术背景的人低估。所以，如果你想超越自己和他人的期望，在结束这本书后，你接下来要做的事情比你为了达到这一点所做的事情更重要。\n",
    "最重要的是保持动力。事实上，正如你从优化器的研究中所知，动力是可以建立在自身基础上的东西！所以想想你现在可以做些什么来保持和加速你的深度学习之旅。“do_next”可以给你一些想法。"
   ],
   "metadata": {
    "collapsed": false,
    "pycharm": {
     "name": "#%% md\n"
    }
   }
  },
  {
   "cell_type": "markdown",
   "metadata": {
    "pycharm": {
     "name": "#%% md\n"
    }
   },
   "source": [
    "<img alt=\"What to do next\" width=\"550\" caption=\"What to do next\" id=\"do_next\" src=\"images/att_00053.png\">"
   ]
  },
  {
   "cell_type": "markdown",
   "metadata": {
    "pycharm": {
     "name": "#%% md\n"
    }
   },
   "source": [
    "We've talked a lot in this book about the value of writing, whether it be code or prose. But perhaps you haven't quite written as much as you had hoped so far. That's okay! Now is a great chance to turn that around. You have a lot to say, at this point. Perhaps you have tried some experiments on a dataset that other people don't seem to have looked at in quite the same way. Tell the world about it! Or perhaps thinking about trying out some ideas that occurred to you while you were reading—now is a great time to turn those ideas into code.\n",
    "\n",
    "If you'd like to share your ideas, one fairly low-key place to do so is the [fast.ai forums](https://forums.fast.ai/). You will find that the community there is very supportive and helpful, so please do drop by and let us know what you've been up to. Or see if you can answer a few questions for those folks who are earlier in their journey than you.\n",
    "\n",
    "And if you do have some successes, big or small, in your deep learning journey, be sure to let us know! It's especially helpful if you post about them on the forums, because learning about the successes of other students can be extremely motivating.\n",
    "\n",
    "Perhaps the most important approach for many people to stay connected with their learning journey is to build a community around it. For instance, you could try to set up a small deep learning meetup in your local neighborhood, or a study group, or even offer to do a talk at a local meetup about what you've learned so far or some particular aspect that interested you. It's okay that you are not the world's leading expert just yet—the important thing to remember is that you now know about plenty of stuff that other people don't, so they are very likely to appreciate your perspective.\n",
    "\n",
    "Another community event which many people find useful is a regular book club or paper reading club. You might find that there are some in your neighbourhood already, and if not you could try to get one started yourself. Even if there is just one other person doing it with you, it will help give you the support and encouragement to get going.\n",
    "\n",
    "If you are not in a geography where it's easy to get together with like-minded folks in person, drop by the forums, because there are always people starting up virtual study groups. These generally involve a bunch of folks getting together over video chat once a week or so to discuss some deep learning topic.\n",
    "\n",
    "Hopefully, by this point, you have a few little projects that you've put together and experiments that you've run. Our recommendation for the next step is to pick one of these and make it as good as you can. Really polish it up into the best piece of work that you can—something you are really proud of. This will force you to go much deeper into a topic, which will really test your understanding and give you the opportunity to see what you can do when you really put your mind to it.\n",
    "\n",
    "Also, you may want to take a look at the fast.ai free online course that covers the same material as this book. Sometimes, seeing the same material in two different ways can really help to crystallize the ideas. In fact, human learning researchers have found that one of the best ways to learn material is to see the same thing from different angles, described in different ways.\n",
    "\n",
    "Your final mission, should you choose to accept it, is to take this book and give it to somebody that you know—and get somebody else started on their own deep learning journey!"
   ]
  },
  {
   "cell_type": "markdown",
   "source": [
    "在这本书里，我们已经谈了很多关于写作的价值，无论是代码还是散文。但也许到目前为止，你写的东西还没有你希望的那么多。没关系！现在是扭转局面的好机会。在这一点上，你有很多话要说。也许你已经在一个数据集上尝试了一些其他人似乎没有以完全相同的方式看待的实验。告诉世界吧！或者也许考虑尝试一些你在阅读时想到的想法——现在是将这些想法转化为代码的好时机。\n",
    "如果你想分享你的想法，一个相当低调的地方是[fast.ai论坛]（https://forums.fast.ai/）。你会发现那里的社区非常支持和帮助，所以请过来告诉我们你在做什么。或者看看你是否能为那些比你早的人回答几个问题。\n",
    "如果你在深度学习过程中确实有一些成功，无论大小，一定要让我们知道！如果你在论坛上发布它们会特别有帮助，因为了解其他学生的成功会非常有动力。\n",
    "也许对许多人来说，与他们的学习之旅保持联系的最重要的方法是围绕它建立一个社区。例如，你可以尝试在你当地的社区或学习小组建立一个小型的深度学习会议，甚至可以在当地的会议上就你目前学到的东西或你感兴趣的某个特定方面进行演讲。没关系，你还不是世界领先的专家——重要的是要记住，你现在知道了很多其他人不知道的东西，所以他们很可能会欣赏你的观点。\n",
    "另一个很多人觉得有用的社区活动是定期的读书俱乐部或纸质阅读俱乐部。你可能会发现你的邻居已经有一些了，如果没有，你可以试着自己开始一个。即使只有一个人和你一起做，它也会帮助你获得支持和鼓励。\n",
    "如果你不在一个很容易和志同道合的人面对面聚在一起的地方，去论坛看看，因为总是有人开始虚拟学习小组。这些通常包括一群人每周一次左右通过视频聊天聚在一起讨论一些深度学习的话题。\n",
    "希望到目前为止，你已经有了一些小项目和你已经运行的实验。我们对下一步的建议是选择其中一个，并尽你所能把它做好。真正把它打磨成你能做的最好的作品——这是你真正引以为豪的事情。这将迫使你更深入地研究一个主题，这将真正考验你的理解，并给你机会看看当你真正用心的时候你能做些什么。\n",
    "此外，你可能想看看fast.ai免费的在线课程，它涵盖了与本书相同的材料。有时，以两种不同的方式看到相同的材料确实有助于具体化想法。事实上，人类学习研究人员发现，学习材料的最佳方式之一是从不同的角度看同样的事情，以不同的方式描述。\n",
    "如果你选择接受它，你的最后一个任务是把这本书交给你认识的人——让别人开始他们自己的深度学习之旅！"
   ],
   "metadata": {
    "collapsed": false,
    "pycharm": {
     "name": "#%% md\n"
    }
   }
  },
  {
   "cell_type": "code",
   "execution_count": null,
   "metadata": {
    "pycharm": {
     "name": "#%%\n"
    }
   },
   "outputs": [],
   "source": []
  }
 ],
 "metadata": {
  "jupytext": {
   "split_at_heading": true
  },
  "kernelspec": {
   "display_name": "Python 3",
   "language": "python",
   "name": "python3"
  }
 },
 "nbformat": 4,
 "nbformat_minor": 4
}